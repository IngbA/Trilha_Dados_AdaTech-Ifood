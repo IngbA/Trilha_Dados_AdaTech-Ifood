{
  "nbformat": 4,
  "nbformat_minor": 0,
  "metadata": {
    "colab": {
      "provenance": [],
      "authorship_tag": "ABX9TyPLDy03kyDRdPyWdapew4/Q"
    },
    "kernelspec": {
      "name": "python3",
      "display_name": "Python 3"
    },
    "language_info": {
      "name": "python"
    }
  },
  "cells": [
    {
      "cell_type": "markdown",
      "source": [
        "Resolva de forma mais eficiente e sucinta usando listas e/ou tuplas:\n",
        "\n",
        "> Faça um programa que olhe todos os itens de uma lista e diga quantos deles são pares."
      ],
      "metadata": {
        "id": "nQHbmzsyEhp0"
      }
    },
    {
      "cell_type": "code",
      "execution_count": null,
      "metadata": {
        "colab": {
          "base_uri": "https://localhost:8080/"
        },
        "id": "Uwgt8VylENLh",
        "outputId": "b57ef58f-3a27-47ad-82bd-d891c1cd17c8"
      },
      "outputs": [
        {
          "output_type": "stream",
          "name": "stdout",
          "text": [
            "A lista contém 6 números pares.\n"
          ]
        }
      ],
      "source": [
        "lista = [17, 14, 98, 45, 32, 69, 46, 53, 30, 86]\n",
        "quantidade_pares = len([x for x in lista if x % 2 == 0])\n",
        "\n",
        "print(f\"A lista contém {quantidade_pares} números pares.\")"
      ]
    },
    {
      "cell_type": "markdown",
      "source": [
        "> Faça um programa que imprima o maior número de uma lista, sem usar o método max()"
      ],
      "metadata": {
        "id": "9RAvsDTGFGSA"
      }
    },
    {
      "cell_type": "code",
      "source": [
        "lista_max = [64, 67, 80, 90, 83, 82, 132, 93, 83, 12]\n",
        "maior_numero = lista_max[0]\n",
        "\n",
        "# Percorre a lista para encontrar o maior número\n",
        "for numero in lista_max:\n",
        "    if numero > maior_numero:\n",
        "        maior_numero = numero\n",
        "\n",
        "print(f\"O maior número na lista é: {maior_numero}\")"
      ],
      "metadata": {
        "colab": {
          "base_uri": "https://localhost:8080/"
        },
        "id": "Tm1x6SKdFHcV",
        "outputId": "c2e326ec-45d5-4de7-9e8d-3501abb3b1d6"
      },
      "execution_count": null,
      "outputs": [
        {
          "output_type": "stream",
          "name": "stdout",
          "text": [
            "O maior número na lista é: 132\n"
          ]
        }
      ]
    },
    {
      "cell_type": "markdown",
      "source": [
        "> Faça um Programa que peça as 4 notas bimestrais e mostre a média, usando listas."
      ],
      "metadata": {
        "id": "fPAj9-tsFout"
      }
    },
    {
      "cell_type": "code",
      "source": [
        "notas = []\n",
        "for i in range(4):\n",
        "    nota = float(input(f\"Digite a nota do {i+1}º bimestre: \"))\n",
        "    notas.append(nota)\n",
        "\n",
        "media = sum(notas) / len(notas)\n",
        "\n",
        "print(f\"A média das notas bimestrais é: {media}\")\n"
      ],
      "metadata": {
        "colab": {
          "base_uri": "https://localhost:8080/"
        },
        "id": "r5zPm58bFrK1",
        "outputId": "a22f4916-0011-4dc3-8ede-90dca39077fd"
      },
      "execution_count": null,
      "outputs": [
        {
          "output_type": "stream",
          "name": "stdout",
          "text": [
            "Digite a nota do 1º bimestre: 5\n",
            "Digite a nota do 2º bimestre: 6\n",
            "Digite a nota do 3º bimestre: 8.5\n",
            "Digite a nota do 4º bimestre: 9.5\n",
            "A média das notas bimestrais é: 7.25\n"
          ]
        }
      ]
    },
    {
      "cell_type": "markdown",
      "source": [
        "\n",
        "> Considere que temos uma lista com os nomes de todos os alunos de uma turma, e outra com as notas, na mesma ordem. Como faríamos para acessar, simultaneamente, o nome de um aluno e a sua nota?\n"
      ],
      "metadata": {
        "id": "Iionp-ZqwW5p"
      }
    },
    {
      "cell_type": "code",
      "source": [
        "nomes_alunos = [\"Felicia\", \"Joaquim\", \"Selina\", \"Joe\"]\n",
        "notas_alunos = [85, 92, 78, 95]\n",
        "\n",
        "\n",
        "for i in range(len(nomes_alunos)):\n",
        "    nome = nomes_alunos[i]\n",
        "    nota = notas_alunos[i]\n",
        "    print(f\"Nome: {nome}, Nota: {nota}\")\n"
      ],
      "metadata": {
        "colab": {
          "base_uri": "https://localhost:8080/"
        },
        "id": "Mjz6QmUBka89",
        "outputId": "3ba60133-9923-49ca-9a61-dbd2c41e51d6"
      },
      "execution_count": 2,
      "outputs": [
        {
          "output_type": "stream",
          "name": "stdout",
          "text": [
            "Nome: Felicia, Nota: 85\n",
            "Nome: Joaquim, Nota: 92\n",
            "Nome: Selina, Nota: 78\n",
            "Nome: Joe, Nota: 95\n"
          ]
        }
      ]
    }
  ]
}